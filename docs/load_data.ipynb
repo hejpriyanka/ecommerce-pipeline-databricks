{
 "cells": [
  {
   "cell_type": "markdown",
   "metadata": {
    "application/vnd.databricks.v1+cell": {
     "cellMetadata": {},
     "inputWidgets": {},
     "nuid": "f5bc7264-75a5-4908-8320-9fc51824bc2e",
     "showTitle": false,
     "tableResultSettingsMap": {},
     "title": ""
    }
   },
   "source": [
    "\n",
    "#### Step 1: Create Gold Schema\n",
    "\n",
    "- 🏆 Creates the **`gold_ecommerce`** schema to store **curated, aggregated, and business-ready data**.\n",
    "- 📊 This layer supports **analytics, dashboards, and reporting**, often consumed by business users and decision-makers.\n"
   ]
  },
  {
   "cell_type": "code",
   "execution_count": 0,
   "metadata": {
    "application/vnd.databricks.v1+cell": {
     "cellMetadata": {
      "byteLimit": 2048000,
      "implicitDf": true,
      "rowLimit": 10000
     },
     "inputWidgets": {},
     "nuid": "1d813c86-bbda-4757-91e6-d6c5708b56b6",
     "showTitle": false,
     "tableResultSettingsMap": {},
     "title": ""
    }
   },
   "outputs": [],
   "source": [
    "%sql\n",
    "CREATE SCHEMA IF NOT EXISTS dataengineer_databricks_ecommerce.gold_ecommerce\n",
    "COMMENT 'Business-level curated and aggregated data for analytics and reporting';\n"
   ]
  },
  {
   "cell_type": "markdown",
   "metadata": {
    "application/vnd.databricks.v1+cell": {
     "cellMetadata": {},
     "inputWidgets": {},
     "nuid": "41439b74-0bb3-4532-9f76-9916d34f2467",
     "showTitle": false,
     "tableResultSettingsMap": {},
     "title": ""
    }
   },
   "source": [
    "#### Step 2: Create Gold Volume\n",
    "\n",
    "- 📦 Creates the **`gold_volume`** inside the `gold_ecommerce` schema to **store final outputs and artifacts**.\n",
    "- 🗃️ This volume is used for **business-ready datasets**, reports, and other deliverables used in analytics and decision-making.\n"
   ]
  },
  {
   "cell_type": "code",
   "execution_count": 0,
   "metadata": {
    "application/vnd.databricks.v1+cell": {
     "cellMetadata": {
      "byteLimit": 2048000,
      "implicitDf": true,
      "rowLimit": 10000
     },
     "inputWidgets": {},
     "nuid": "f5250e5f-6ea7-44a1-9a18-352a1c393c2e",
     "showTitle": false,
     "tableResultSettingsMap": {},
     "title": ""
    }
   },
   "outputs": [],
   "source": [
    "%sql\n",
    "CREATE VOLUME IF NOT EXISTS dataengineer_databricks_ecommerce.gold_ecommerce.gold_volume\n",
    "COMMENT 'Volume for storing gold layer outputs and artifacts';\n"
   ]
  },
  {
   "cell_type": "markdown",
   "metadata": {
    "application/vnd.databricks.v1+cell": {
     "cellMetadata": {},
     "inputWidgets": {},
     "nuid": "2028ccf2-dbfb-48bf-87cb-6a35805e2b43",
     "showTitle": false,
     "tableResultSettingsMap": {},
     "title": ""
    }
   },
   "source": [
    "#### Step 3: Create and Query Gold Table\n",
    "\n",
    "- 🏗️ Creates or replaces the `complete` table in the Gold schema using cleaned data from the Silver volume.\n",
    "- 📂 Reads the data with `read_files()` directly from the volume path.\n",
    "- 🔄 Keeps the table updated with the latest version of the data.\n",
    "- 🔍 Shows the first 10 rows to confirm the data was loaded correctly.\n",
    "\n"
   ]
  },
  {
   "cell_type": "code",
   "execution_count": 0,
   "metadata": {
    "application/vnd.databricks.v1+cell": {
     "cellMetadata": {
      "byteLimit": 2048000,
      "implicitDf": true,
      "rowLimit": 10000
     },
     "inputWidgets": {},
     "nuid": "6b129e50-363c-40a7-91d1-2b3ec739b7bd",
     "showTitle": false,
     "tableResultSettingsMap": {},
     "title": ""
    }
   },
   "outputs": [],
   "source": [
    "%sql\n",
    "CREATE OR REPLACE TABLE dataengineer_databricks_ecommerce.gold_ecommerce.complete\n",
    "AS\n",
    "SELECT * FROM read_files(\n",
    "    \"/Volumes/dataengineer_databricks_ecommerce/silver_ecommerce/silver_volume/orders_cleaned/\",\n",
    "    format => \"csv\"\n",
    ");\n",
    "select * from dataengineer_databricks_ecommerce.gold_ecommerce.complete limit 10;"
   ]
  },
  {
   "cell_type": "markdown",
   "metadata": {
    "application/vnd.databricks.v1+cell": {
     "cellMetadata": {},
     "inputWidgets": {},
     "nuid": "b392909d-f220-4e5f-af8c-b2746736dc6a",
     "showTitle": false,
     "tableResultSettingsMap": {},
     "title": ""
    }
   },
   "source": [
    "\n",
    "#### Ex 1: Sales Summary by State and Category\n",
    "\n",
    "This step creates a table that shows total sales, profit, and quantity for each state and product category. The data comes from cleaned CSV files in the Silver Layer.\n"
   ]
  },
  {
   "cell_type": "code",
   "execution_count": 0,
   "metadata": {
    "application/vnd.databricks.v1+cell": {
     "cellMetadata": {
      "byteLimit": 2048000,
      "implicitDf": true,
      "rowLimit": 10000
     },
     "inputWidgets": {},
     "nuid": "d9b73f56-ee38-4fa7-b644-7b3852098651",
     "showTitle": false,
     "tableResultSettingsMap": {},
     "title": ""
    }
   },
   "outputs": [],
   "source": [
    "%sql\n",
    "CREATE OR REPLACE TABLE dataengineer_databricks_ecommerce.gold_ecommerce.sales_by_state_category\n",
    "AS\n",
    "SELECT State_Code,\n",
    "       Category,\n",
    "       sum(sales) as Total_sales,\n",
    "       sum(profit) as Total_Profit,\n",
    "       sum(Quantity) as Total_Quantity\n",
    "\n",
    "FROM read_files(\n",
    "    \"/Volumes/dataengineer_databricks_ecommerce/silver_ecommerce/silver_volume/orders_cleaned/\",\n",
    "    format => \"csv\"\n",
    ")\n",
    "group by State_Code,Category\n",
    "ORDER BY State_Code,Category;\n",
    "select * from dataengineer_databricks_ecommerce.gold_ecommerce.sales_by_state_category"
   ]
  },
  {
   "cell_type": "markdown",
   "metadata": {
    "application/vnd.databricks.v1+cell": {
     "cellMetadata": {},
     "inputWidgets": {},
     "nuid": "8807338e-0233-4d91-b4be-36a4be753786",
     "showTitle": false,
     "tableResultSettingsMap": {},
     "title": ""
    }
   },
   "source": [
    "\n",
    "#### Note\n",
    "\n",
    "This query uses the same logic as before, but now it reads data from the **Gold Layer** instead of the **Silver CSV files**.\n",
    "\n"
   ]
  },
  {
   "cell_type": "code",
   "execution_count": 0,
   "metadata": {
    "application/vnd.databricks.v1+cell": {
     "cellMetadata": {
      "byteLimit": 2048000,
      "implicitDf": true,
      "rowLimit": 10000
     },
     "inputWidgets": {},
     "nuid": "78a99571-a681-4b19-a73f-963413e18543",
     "showTitle": false,
     "tableResultSettingsMap": {},
     "title": ""
    }
   },
   "outputs": [],
   "source": [
    "%sql\n",
    "CREATE OR REPLACE TABLE dataengineer_databricks_ecommerce.gold_ecommerce.sales_by_state_category_1\n",
    "AS\n",
    "SELECT State_Code,\n",
    "       Category,\n",
    "       sum(sales) as Total_sales,\n",
    "       sum(profit) as Total_Profit,\n",
    "       sum(Quantity) as Total_Quantity\n",
    "\n",
    "FROM dataengineer_databricks_ecommerce.gold_ecommerce.complete\n",
    "group by State_Code,Category\n",
    "ORDER BY State_Code,Category;\n",
    "select * from dataengineer_databricks_ecommerce.gold_ecommerce.sales_by_state_category_1"
   ]
  },
  {
   "cell_type": "markdown",
   "metadata": {
    "application/vnd.databricks.v1+cell": {
     "cellMetadata": {},
     "inputWidgets": {},
     "nuid": "65028606-2bc6-4800-808a-780d4d008c84",
     "showTitle": false,
     "tableResultSettingsMap": {},
     "title": ""
    }
   },
   "source": [
    "\n",
    "#### Step 2: Create Top Products by Sales Table\n",
    "\n",
    "This query creates a **Gold Layer** table that ranks products based on total sales. It aggregates sales and profit for each product and assigns a rank using a window function.\n"
   ]
  },
  {
   "cell_type": "code",
   "execution_count": 0,
   "metadata": {
    "application/vnd.databricks.v1+cell": {
     "cellMetadata": {
      "byteLimit": 2048000,
      "implicitDf": true,
      "rowLimit": 10000
     },
     "inputWidgets": {},
     "nuid": "59be0542-04cb-4b7a-8ef3-abd65e3fd3d4",
     "showTitle": false,
     "tableResultSettingsMap": {},
     "title": ""
    }
   },
   "outputs": [],
   "source": [
    "%sql\n",
    "create or replace table dataengineer_databricks_ecommerce.gold_ecommerce.Top_Products_By_Sales\n",
    "as\n",
    "select Product, \n",
    "       sum(Sales) as Total__Sales,\n",
    "       sum(profit) as Total_profit,\n",
    "       Rank() over (order by sum(sales) desc) as Rank\n",
    "from dataengineer_databricks_ecommerce.gold_ecommerce.complete\n",
    "group by Product;\n",
    "select * from dataengineer_databricks_ecommerce.gold_ecommerce.Top_Products_By_Sales;"
   ]
  },
  {
   "cell_type": "markdown",
   "metadata": {
    "application/vnd.databricks.v1+cell": {
     "cellMetadata": {},
     "inputWidgets": {},
     "nuid": "22c2d580-94c8-4ae5-95d4-3a90f11e1289",
     "showTitle": false,
     "tableResultSettingsMap": {},
     "title": ""
    }
   },
   "source": [
    "####Ex 3: Monthly Sales Trend Table\n",
    "\n",
    "This query creates a table that shows total sales and profit for each month. It helps track how sales change over time.\n"
   ]
  },
  {
   "cell_type": "code",
   "execution_count": 0,
   "metadata": {
    "application/vnd.databricks.v1+cell": {
     "cellMetadata": {
      "byteLimit": 2048000,
      "implicitDf": true,
      "rowLimit": 10000
     },
     "inputWidgets": {},
     "nuid": "5894a1be-d15a-4f6a-927d-894a99f7f266",
     "showTitle": false,
     "tableResultSettingsMap": {},
     "title": ""
    }
   },
   "outputs": [],
   "source": [
    "%sql\n",
    "create or replace table dataengineer_databricks_ecommerce.gold_ecommerce.Monthly_Sales\n",
    "as\n",
    "select DATE_FORMAT(DATE_TRUNC('month', Order_Date), 'yyyy-MM-dd') AS Month,\n",
    "       sum(sales) as Total_Sales,\n",
    "       sum(Profit) as Total_profit\n",
    "from dataengineer_databricks_ecommerce.gold_ecommerce.complete\n",
    "group by DATE_TRUNC('month', Order_Date)\n",
    "order by Month;\n",
    "    \n",
    "select * from dataengineer_databricks_ecommerce.gold_ecommerce.Monthly_Sales"
   ]
  },
  {
   "cell_type": "markdown",
   "metadata": {
    "application/vnd.databricks.v1+cell": {
     "cellMetadata": {},
     "inputWidgets": {},
     "nuid": "f20dda62-8bfc-4d56-b313-5e12a37daa1c",
     "showTitle": false,
     "tableResultSettingsMap": {},
     "title": ""
    }
   },
   "source": [
    "#### Ex 4: Supervisor Performance Table\n",
    "\n",
    "This query creates a table that shows how each supervisor is performing. It includes total sales, total profit, and the number of orders handled.\n"
   ]
  },
  {
   "cell_type": "code",
   "execution_count": 0,
   "metadata": {
    "application/vnd.databricks.v1+cell": {
     "cellMetadata": {
      "byteLimit": 2048000,
      "implicitDf": true,
      "rowLimit": 10000
     },
     "inputWidgets": {},
     "nuid": "7f7879d1-e837-4edf-92a2-29d47e2e34bb",
     "showTitle": false,
     "tableResultSettingsMap": {},
     "title": ""
    }
   },
   "outputs": [],
   "source": [
    "%sql\n",
    "create or replace table dataengineer_databricks_ecommerce.gold_ecommerce.Supervisor_Performance\n",
    "as\n",
    "select Assigned_Supervisor,\n",
    "       sum(sales) as Total_Sales,\n",
    "       sum(Profit) as Total_profit,\n",
    "       count(Distinct Order_Number) as Total_Orders\n",
    "from dataengineer_databricks_ecommerce.gold_ecommerce.complete\n",
    "where Assigned_Supervisor is not null\n",
    "group by Assigned_Supervisor;\n",
    "    \n",
    "select * from dataengineer_databricks_ecommerce.gold_ecommerce.Supervisor_Performance;"
   ]
  }
 ],
 "metadata": {
  "application/vnd.databricks.v1+notebook": {
   "computePreferences": null,
   "dashboards": [],
   "environmentMetadata": {
    "base_environment": "",
    "environment_version": "2"
   },
   "inputWidgetPreferences": null,
   "language": "python",
   "notebookMetadata": {
    "mostRecentlyExecutedCommandWithImplicitDF": {
     "commandId": 8323729221073956,
     "dataframes": [
      "_sqldf"
     ]
    },
    "pythonIndentUnit": 4
   },
   "notebookName": "load_data",
   "widgets": {}
  },
  "language_info": {
   "name": "python"
  }
 },
 "nbformat": 4,
 "nbformat_minor": 0
}
